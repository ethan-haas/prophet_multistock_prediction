{
 "cells": [
  {
   "cell_type": "code",
   "execution_count": 1,
   "id": "42696b30-ede3-427c-ad4e-6de88222db7a",
   "metadata": {},
   "outputs": [
    {
     "name": "stdout",
     "output_type": "stream",
     "text": [
      "Requirement already satisfied: pandas in c:\\python\\lib\\site-packages (1.5.3)\n",
      "Requirement already satisfied: prophet in c:\\python\\lib\\site-packages (1.1.2)\n",
      "Requirement already satisfied: scikit-learn in c:\\python\\lib\\site-packages (1.2.1)\n",
      "Requirement already satisfied: plotly in c:\\python\\lib\\site-packages (5.13.0)\n",
      "Requirement already satisfied: yfinance in c:\\python\\lib\\site-packages (0.2.9)\n",
      "Requirement already satisfied: python-dateutil>=2.8.1 in c:\\python\\lib\\site-packages (from pandas) (2.8.2)\n",
      "Requirement already satisfied: numpy>=1.21.0 in c:\\python\\lib\\site-packages (from pandas) (1.24.1)\n",
      "Requirement already satisfied: pytz>=2020.1 in c:\\python\\lib\\site-packages (from pandas) (2022.7.1)\n",
      "Requirement already satisfied: cmdstanpy>=1.0.4 in c:\\python\\lib\\site-packages (from prophet) (1.1.0)\n",
      "Requirement already satisfied: convertdate>=2.1.2 in c:\\python\\lib\\site-packages (from prophet) (2.4.0)\n",
      "Requirement already satisfied: holidays>=0.14.2 in c:\\python\\lib\\site-packages (from prophet) (0.18)\n",
      "Requirement already satisfied: LunarCalendar>=0.0.9 in c:\\python\\lib\\site-packages (from prophet) (0.0.9)\n",
      "Requirement already satisfied: matplotlib>=2.0.0 in c:\\python\\lib\\site-packages (from prophet) (3.6.3)\n",
      "Requirement already satisfied: tqdm>=4.36.1 in c:\\python\\lib\\site-packages (from prophet) (4.64.1)\n",
      "Requirement already satisfied: threadpoolctl>=2.0.0 in c:\\python\\lib\\site-packages (from scikit-learn) (3.1.0)\n",
      "Requirement already satisfied: joblib>=1.1.1 in c:\\python\\lib\\site-packages (from scikit-learn) (1.2.0)\n",
      "Requirement already satisfied: scipy>=1.3.2 in c:\\python\\lib\\site-packages (from scikit-learn) (1.10.0)\n",
      "Requirement already satisfied: tenacity>=6.2.0 in c:\\python\\lib\\site-packages (from plotly) (8.1.0)\n",
      "Requirement already satisfied: multitasking>=0.0.7 in c:\\python\\lib\\site-packages (from yfinance) (0.0.11)\n",
      "Requirement already satisfied: appdirs>=1.4.4 in c:\\python\\lib\\site-packages (from yfinance) (1.4.4)\n",
      "Requirement already satisfied: frozendict>=2.3.4 in c:\\python\\lib\\site-packages (from yfinance) (2.3.4)\n",
      "Requirement already satisfied: html5lib>=1.1 in c:\\python\\lib\\site-packages (from yfinance) (1.1)\n",
      "Requirement already satisfied: lxml>=4.9.1 in c:\\python\\lib\\site-packages (from yfinance) (4.9.2)\n",
      "Requirement already satisfied: beautifulsoup4>=4.11.1 in c:\\python\\lib\\site-packages (from yfinance) (4.11.1)\n",
      "Requirement already satisfied: cryptography>=3.3.2 in c:\\python\\lib\\site-packages (from yfinance) (39.0.0)\n",
      "Requirement already satisfied: requests>=2.26 in c:\\python\\lib\\site-packages (from yfinance) (2.28.2)\n",
      "Requirement already satisfied: soupsieve>1.2 in c:\\python\\lib\\site-packages (from beautifulsoup4>=4.11.1->yfinance) (2.3.2.post1)\n",
      "Requirement already satisfied: pymeeus<=1,>=0.3.13 in c:\\python\\lib\\site-packages (from convertdate>=2.1.2->prophet) (0.5.12)\n",
      "Requirement already satisfied: cffi>=1.12 in c:\\python\\lib\\site-packages (from cryptography>=3.3.2->yfinance) (1.15.1)\n",
      "Requirement already satisfied: hijri-converter in c:\\python\\lib\\site-packages (from holidays>=0.14.2->prophet) (2.2.4)\n",
      "Requirement already satisfied: korean-lunar-calendar in c:\\python\\lib\\site-packages (from holidays>=0.14.2->prophet) (0.3.1)\n",
      "Requirement already satisfied: six>=1.9 in c:\\python\\lib\\site-packages (from html5lib>=1.1->yfinance) (1.16.0)\n",
      "Requirement already satisfied: webencodings in c:\\python\\lib\\site-packages (from html5lib>=1.1->yfinance) (0.5.1)\n",
      "Requirement already satisfied: ephem>=3.7.5.3 in c:\\python\\lib\\site-packages (from LunarCalendar>=0.0.9->prophet) (4.1.4)\n",
      "Requirement already satisfied: cycler>=0.10 in c:\\python\\lib\\site-packages (from matplotlib>=2.0.0->prophet) (0.11.0)\n",
      "Requirement already satisfied: packaging>=20.0 in c:\\python\\lib\\site-packages (from matplotlib>=2.0.0->prophet) (23.0)\n",
      "Requirement already satisfied: kiwisolver>=1.0.1 in c:\\python\\lib\\site-packages (from matplotlib>=2.0.0->prophet) (1.4.4)\n",
      "Requirement already satisfied: pillow>=6.2.0 in c:\\python\\lib\\site-packages (from matplotlib>=2.0.0->prophet) (9.4.0)\n",
      "Requirement already satisfied: contourpy>=1.0.1 in c:\\python\\lib\\site-packages (from matplotlib>=2.0.0->prophet) (1.0.7)\n",
      "Requirement already satisfied: pyparsing>=2.2.1 in c:\\python\\lib\\site-packages (from matplotlib>=2.0.0->prophet) (3.0.9)\n",
      "Requirement already satisfied: fonttools>=4.22.0 in c:\\python\\lib\\site-packages (from matplotlib>=2.0.0->prophet) (4.38.0)\n",
      "Requirement already satisfied: charset-normalizer<4,>=2 in c:\\python\\lib\\site-packages (from requests>=2.26->yfinance) (3.0.1)\n",
      "Requirement already satisfied: certifi>=2017.4.17 in c:\\python\\lib\\site-packages (from requests>=2.26->yfinance) (2022.12.7)\n",
      "Requirement already satisfied: urllib3<1.27,>=1.21.1 in c:\\python\\lib\\site-packages (from requests>=2.26->yfinance) (1.26.14)\n",
      "Requirement already satisfied: idna<4,>=2.5 in c:\\python\\lib\\site-packages (from requests>=2.26->yfinance) (3.4)\n",
      "Requirement already satisfied: colorama in c:\\python\\lib\\site-packages (from tqdm>=4.36.1->prophet) (0.4.6)\n",
      "Requirement already satisfied: pycparser in c:\\python\\lib\\site-packages (from cffi>=1.12->cryptography>=3.3.2->yfinance) (2.21)\n"
     ]
    }
   ],
   "source": [
    "!pip install pandas prophet scikit-learn plotly yfinance"
   ]
  },
  {
   "cell_type": "code",
   "execution_count": null,
   "id": "5b848ceb-3dab-4d7f-9ec7-94a01d7ca672",
   "metadata": {},
   "outputs": [
    {
     "name": "stdout",
     "output_type": "stream",
     "text": [
      "\n",
      "1 Failed download:\n",
      "- CEG: Data doesn't exist for startDate = 1357534800, endDate = 1641186000\n"
     ]
    },
    {
     "name": "stderr",
     "output_type": "stream",
     "text": [
      "04:08:32 - cmdstanpy - INFO - Chain [1] start processing\n",
      "04:08:32 - cmdstanpy - INFO - Chain [1] done processing\n",
      "04:08:32 - cmdstanpy - INFO - Chain [1] start processing\n",
      "04:08:32 - cmdstanpy - INFO - Chain [1] done processing\n",
      "04:08:32 - cmdstanpy - INFO - Chain [1] start processing\n",
      "04:08:33 - cmdstanpy - INFO - Chain [1] done processing\n",
      "04:08:33 - cmdstanpy - INFO - Chain [1] start processing\n",
      "04:08:33 - cmdstanpy - INFO - Chain [1] done processing\n",
      "04:08:34 - cmdstanpy - INFO - Chain [1] start processing\n",
      "04:08:34 - cmdstanpy - INFO - Chain [1] done processing\n",
      "04:08:35 - cmdstanpy - INFO - Chain [1] start processing\n",
      "04:08:35 - cmdstanpy - INFO - Chain [1] done processing\n",
      "04:08:37 - cmdstanpy - INFO - Chain [1] start processing\n",
      "04:08:38 - cmdstanpy - INFO - Chain [1] done processing\n",
      "04:08:38 - cmdstanpy - INFO - Chain [1] start processing\n",
      "04:08:38 - cmdstanpy - INFO - Chain [1] done processing\n"
     ]
    },
    {
     "name": "stdout",
     "output_type": "stream",
     "text": [
      "Ticker: TSLA | Last Close: 352.26 | Projected Price: 374.81 | Projected Upside: 0.06 | Predicted MSE: 36.9 | Actual MSE: 18.52\n"
     ]
    },
    {
     "name": "stderr",
     "output_type": "stream",
     "text": [
      "04:08:40 - cmdstanpy - INFO - Chain [1] start processing\n",
      "04:08:40 - cmdstanpy - INFO - Chain [1] done processing\n",
      "04:08:41 - cmdstanpy - INFO - Chain [1] start processing\n",
      "04:08:41 - cmdstanpy - INFO - Chain [1] done processing\n",
      "04:08:42 - cmdstanpy - INFO - Chain [1] start processing\n",
      "04:08:43 - cmdstanpy - INFO - Chain [1] done processing\n",
      "04:08:43 - cmdstanpy - INFO - Chain [1] start processing\n",
      "04:08:43 - cmdstanpy - INFO - Chain [1] done processing\n"
     ]
    },
    {
     "name": "stdout",
     "output_type": "stream",
     "text": [
      "Ticker: PAYC | Last Close: 415.19 | Projected Price: 504.94 | Projected Upside: 0.22 | Predicted MSE: 51.03 | Actual MSE: 48.83\n"
     ]
    },
    {
     "name": "stderr",
     "output_type": "stream",
     "text": [
      "04:08:44 - cmdstanpy - INFO - Chain [1] start processing\n",
      "04:08:44 - cmdstanpy - INFO - Chain [1] done processing\n",
      "04:08:45 - cmdstanpy - INFO - Chain [1] start processing\n",
      "04:08:45 - cmdstanpy - INFO - Chain [1] done processing\n",
      "04:08:47 - cmdstanpy - INFO - Chain [1] start processing\n",
      "04:08:48 - cmdstanpy - INFO - Chain [1] done processing\n",
      "04:08:48 - cmdstanpy - INFO - Chain [1] start processing\n",
      "04:08:48 - cmdstanpy - INFO - Chain [1] done processing\n"
     ]
    },
    {
     "name": "stdout",
     "output_type": "stream",
     "text": [
      "Ticker: ENPH | Last Close: 182.94 | Projected Price: 251.37 | Projected Upside: 0.37 | Predicted MSE: 27.22 | Actual MSE: 13.62\n"
     ]
    },
    {
     "name": "stderr",
     "output_type": "stream",
     "text": [
      "04:08:50 - cmdstanpy - INFO - Chain [1] start processing\n",
      "04:08:50 - cmdstanpy - INFO - Chain [1] done processing\n",
      "04:08:50 - cmdstanpy - INFO - Chain [1] start processing\n",
      "04:08:50 - cmdstanpy - INFO - Chain [1] done processing\n",
      "04:08:51 - cmdstanpy - INFO - Chain [1] start processing\n",
      "04:08:52 - cmdstanpy - INFO - Chain [1] done processing\n",
      "04:08:52 - cmdstanpy - INFO - Chain [1] start processing\n",
      "04:08:52 - cmdstanpy - INFO - Chain [1] done processing\n"
     ]
    },
    {
     "name": "stdout",
     "output_type": "stream",
     "text": [
      "Ticker: SEDG | Last Close: 280.57 | Projected Price: 344.22 | Projected Upside: 0.23 | Predicted MSE: 82.12 | Actual MSE: 105.38\n"
     ]
    },
    {
     "name": "stderr",
     "output_type": "stream",
     "text": [
      "04:08:54 - cmdstanpy - INFO - Chain [1] start processing\n",
      "04:08:55 - cmdstanpy - INFO - Chain [1] done processing\n",
      "04:08:55 - cmdstanpy - INFO - Chain [1] start processing\n",
      "04:08:56 - cmdstanpy - INFO - Chain [1] done processing\n",
      "04:08:57 - cmdstanpy - INFO - Chain [1] start processing\n",
      "04:08:58 - cmdstanpy - INFO - Chain [1] done processing\n",
      "04:08:58 - cmdstanpy - INFO - Chain [1] start processing\n",
      "04:08:59 - cmdstanpy - INFO - Chain [1] done processing\n"
     ]
    },
    {
     "name": "stdout",
     "output_type": "stream",
     "text": [
      "Ticker: EPAM | Last Close: 668.45 | Projected Price: 707.01 | Projected Upside: 0.06 | Predicted MSE: 168.96 | Actual MSE: 41.08\n"
     ]
    },
    {
     "name": "stderr",
     "output_type": "stream",
     "text": [
      "04:09:00 - cmdstanpy - INFO - Chain [1] start processing\n",
      "04:09:00 - cmdstanpy - INFO - Chain [1] done processing\n",
      "04:09:01 - cmdstanpy - INFO - Chain [1] start processing\n",
      "04:09:01 - cmdstanpy - INFO - Chain [1] done processing\n",
      "04:09:02 - cmdstanpy - INFO - Chain [1] start processing\n",
      "04:09:03 - cmdstanpy - INFO - Chain [1] done processing\n",
      "04:09:03 - cmdstanpy - INFO - Chain [1] start processing\n",
      "04:09:03 - cmdstanpy - INFO - Chain [1] done processing\n"
     ]
    },
    {
     "name": "stdout",
     "output_type": "stream",
     "text": [
      "Ticker: CZR | Last Close: 93.53 | Projected Price: 132.83 | Projected Upside: 0.42 | Predicted MSE: 5.64 | Actual MSE: 4.16\n"
     ]
    },
    {
     "name": "stderr",
     "output_type": "stream",
     "text": [
      "04:09:05 - cmdstanpy - INFO - Chain [1] start processing\n",
      "04:09:06 - cmdstanpy - INFO - Chain [1] done processing\n",
      "04:09:06 - cmdstanpy - INFO - Chain [1] start processing\n",
      "04:09:06 - cmdstanpy - INFO - Chain [1] done processing\n",
      "04:09:08 - cmdstanpy - INFO - Chain [1] start processing\n",
      "04:09:09 - cmdstanpy - INFO - Chain [1] done processing\n",
      "04:09:09 - cmdstanpy - INFO - Chain [1] start processing\n",
      "04:09:09 - cmdstanpy - INFO - Chain [1] done processing\n"
     ]
    },
    {
     "name": "stdout",
     "output_type": "stream",
     "text": [
      "Ticker: AMZN | Last Close: 166.72 | Projected Price: 190.98 | Projected Upside: 0.15 | Predicted MSE: 10.36 | Actual MSE: 3.91\n"
     ]
    },
    {
     "name": "stderr",
     "output_type": "stream",
     "text": [
      "04:09:11 - cmdstanpy - INFO - Chain [1] start processing\n",
      "04:09:11 - cmdstanpy - INFO - Chain [1] done processing\n",
      "04:09:11 - cmdstanpy - INFO - Chain [1] start processing\n",
      "04:09:12 - cmdstanpy - INFO - Chain [1] done processing\n",
      "04:09:13 - cmdstanpy - INFO - Chain [1] start processing\n",
      "04:09:14 - cmdstanpy - INFO - Chain [1] done processing\n",
      "04:09:14 - cmdstanpy - INFO - Chain [1] start processing\n",
      "04:09:15 - cmdstanpy - INFO - Chain [1] done processing\n"
     ]
    },
    {
     "name": "stdout",
     "output_type": "stream",
     "text": [
      "Ticker: AVGO | Last Close: 665.41 | Projected Price: 624.1 | Projected Upside: -0.06 | Predicted MSE: 62.45 | Actual MSE: 38.18\n"
     ]
    },
    {
     "name": "stderr",
     "output_type": "stream",
     "text": [
      "04:09:17 - cmdstanpy - INFO - Chain [1] start processing\n",
      "04:09:17 - cmdstanpy - INFO - Chain [1] done processing\n",
      "04:09:17 - cmdstanpy - INFO - Chain [1] start processing\n",
      "04:09:18 - cmdstanpy - INFO - Chain [1] done processing\n",
      "04:09:20 - cmdstanpy - INFO - Chain [1] start processing\n",
      "04:09:20 - cmdstanpy - INFO - Chain [1] done processing\n",
      "04:09:21 - cmdstanpy - INFO - Chain [1] start processing\n",
      "04:09:21 - cmdstanpy - INFO - Chain [1] done processing\n"
     ]
    },
    {
     "name": "stdout",
     "output_type": "stream",
     "text": [
      "Ticker: NFLX | Last Close: 602.44 | Projected Price: 664.47 | Projected Upside: 0.1 | Predicted MSE: 141.47 | Actual MSE: 76.06\n"
     ]
    },
    {
     "name": "stderr",
     "output_type": "stream",
     "text": [
      "04:09:22 - cmdstanpy - INFO - Chain [1] start processing\n",
      "04:09:23 - cmdstanpy - INFO - Chain [1] done processing\n",
      "04:09:23 - cmdstanpy - INFO - Chain [1] start processing\n",
      "04:09:23 - cmdstanpy - INFO - Chain [1] done processing\n",
      "04:09:25 - cmdstanpy - INFO - Chain [1] start processing\n",
      "04:09:26 - cmdstanpy - INFO - Chain [1] done processing\n",
      "04:09:26 - cmdstanpy - INFO - Chain [1] start processing\n",
      "04:09:26 - cmdstanpy - INFO - Chain [1] done processing\n"
     ]
    },
    {
     "name": "stdout",
     "output_type": "stream",
     "text": [
      "Ticker: NOW | Last Close: 649.11 | Projected Price: 718.42 | Projected Upside: 0.11 | Predicted MSE: 122.59 | Actual MSE: 48.18\n"
     ]
    },
    {
     "name": "stderr",
     "output_type": "stream",
     "text": [
      "04:09:28 - cmdstanpy - INFO - Chain [1] start processing\n",
      "04:09:29 - cmdstanpy - INFO - Chain [1] done processing\n",
      "04:09:29 - cmdstanpy - INFO - Chain [1] start processing\n",
      "04:09:29 - cmdstanpy - INFO - Chain [1] done processing\n",
      "04:09:31 - cmdstanpy - INFO - Chain [1] start processing\n",
      "04:09:32 - cmdstanpy - INFO - Chain [1] done processing\n",
      "04:09:32 - cmdstanpy - INFO - Chain [1] start processing\n",
      "04:09:32 - cmdstanpy - INFO - Chain [1] done processing\n"
     ]
    },
    {
     "name": "stdout",
     "output_type": "stream",
     "text": [
      "Ticker: MA | Last Close: 359.32 | Projected Price: 391.96 | Projected Upside: 0.09 | Predicted MSE: 31.16 | Actual MSE: 19.5\n"
     ]
    },
    {
     "name": "stderr",
     "output_type": "stream",
     "text": [
      "04:09:33 - cmdstanpy - INFO - Chain [1] start processing\n",
      "04:09:34 - cmdstanpy - INFO - Chain [1] done processing\n",
      "04:09:34 - cmdstanpy - INFO - Chain [1] start processing\n",
      "04:09:34 - cmdstanpy - INFO - Chain [1] done processing\n",
      "04:09:36 - cmdstanpy - INFO - Chain [1] start processing\n",
      "04:09:36 - cmdstanpy - INFO - Chain [1] done processing\n",
      "04:09:36 - cmdstanpy - INFO - Chain [1] start processing\n",
      "04:09:36 - cmdstanpy - INFO - Chain [1] done processing\n"
     ]
    },
    {
     "name": "stdout",
     "output_type": "stream",
     "text": [
      "Ticker: ANET | Last Close: 143.75 | Projected Price: 125.01 | Projected Upside: -0.13 | Predicted MSE: 8.42 | Actual MSE: 3.64\n"
     ]
    },
    {
     "name": "stderr",
     "output_type": "stream",
     "text": [
      "04:09:37 - cmdstanpy - INFO - Chain [1] start processing\n",
      "04:09:37 - cmdstanpy - INFO - Chain [1] done processing\n",
      "04:09:37 - cmdstanpy - INFO - Chain [1] start processing\n",
      "04:09:38 - cmdstanpy - INFO - Chain [1] done processing\n",
      "04:09:39 - cmdstanpy - INFO - Chain [1] start processing\n",
      "04:09:39 - cmdstanpy - INFO - Chain [1] done processing\n",
      "04:09:39 - cmdstanpy - INFO - Chain [1] start processing\n",
      "04:09:40 - cmdstanpy - INFO - Chain [1] done processing\n",
      "04:09:41 - cmdstanpy - INFO - Chain [1] start processing\n",
      "04:09:42 - cmdstanpy - INFO - Chain [1] done processing\n",
      "04:09:42 - cmdstanpy - INFO - Chain [1] start processing\n",
      "04:09:43 - cmdstanpy - INFO - Chain [1] done processing\n"
     ]
    },
    {
     "name": "stdout",
     "output_type": "stream",
     "text": [
      "Ticker: FTNT | Last Close: 71.88 | Projected Price: 67.71 | Projected Upside: -0.06 | Predicted MSE: 0.9 | Actual MSE: 0.34\n"
     ]
    },
    {
     "name": "stderr",
     "output_type": "stream",
     "text": [
      "04:09:44 - cmdstanpy - INFO - Chain [1] start processing\n",
      "04:09:45 - cmdstanpy - INFO - Chain [1] done processing\n",
      "04:09:45 - cmdstanpy - INFO - Chain [1] start processing\n",
      "04:09:46 - cmdstanpy - INFO - Chain [1] done processing\n",
      "04:09:47 - cmdstanpy - INFO - Chain [1] start processing\n",
      "04:09:48 - cmdstanpy - INFO - Chain [1] done processing\n",
      "04:09:48 - cmdstanpy - INFO - Chain [1] start processing\n",
      "04:09:49 - cmdstanpy - INFO - Chain [1] done processing\n"
     ]
    },
    {
     "name": "stdout",
     "output_type": "stream",
     "text": [
      "Ticker: CDW | Last Close: 204.78 | Projected Price: 218.94 | Projected Upside: 0.07 | Predicted MSE: 4.35 | Actual MSE: 4.25\n"
     ]
    },
    {
     "name": "stderr",
     "output_type": "stream",
     "text": [
      "04:09:50 - cmdstanpy - INFO - Chain [1] start processing\n",
      "04:09:51 - cmdstanpy - INFO - Chain [1] done processing\n",
      "04:09:51 - cmdstanpy - INFO - Chain [1] start processing\n",
      "04:09:52 - cmdstanpy - INFO - Chain [1] done processing\n",
      "04:09:54 - cmdstanpy - INFO - Chain [1] start processing\n",
      "04:09:54 - cmdstanpy - INFO - Chain [1] done processing\n",
      "04:09:54 - cmdstanpy - INFO - Chain [1] start processing\n",
      "04:09:55 - cmdstanpy - INFO - Chain [1] done processing\n"
     ]
    },
    {
     "name": "stdout",
     "output_type": "stream",
     "text": [
      "Ticker: NVDA | Last Close: 294.11 | Projected Price: 273.4 | Projected Upside: -0.07 | Predicted MSE: 22.41 | Actual MSE: 9.52\n"
     ]
    },
    {
     "name": "stderr",
     "output_type": "stream",
     "text": [
      "04:09:56 - cmdstanpy - INFO - Chain [1] start processing\n",
      "04:09:56 - cmdstanpy - INFO - Chain [1] done processing\n",
      "04:09:57 - cmdstanpy - INFO - Chain [1] start processing\n",
      "04:09:57 - cmdstanpy - INFO - Chain [1] done processing\n",
      "04:09:58 - cmdstanpy - INFO - Chain [1] start processing\n",
      "04:09:59 - cmdstanpy - INFO - Chain [1] done processing\n",
      "04:09:59 - cmdstanpy - INFO - Chain [1] start processing\n",
      "04:09:59 - cmdstanpy - INFO - Chain [1] done processing\n"
     ]
    },
    {
     "name": "stdout",
     "output_type": "stream",
     "text": [
      "Ticker: TDG | Last Close: 636.28 | Projected Price: 695.62 | Projected Upside: 0.09 | Predicted MSE: 147.07 | Actual MSE: 96.07\n"
     ]
    },
    {
     "name": "stderr",
     "output_type": "stream",
     "text": [
      "04:10:00 - cmdstanpy - INFO - Chain [1] start processing\n",
      "04:10:01 - cmdstanpy - INFO - Chain [1] done processing\n",
      "04:10:01 - cmdstanpy - INFO - Chain [1] start processing\n",
      "04:10:02 - cmdstanpy - INFO - Chain [1] done processing\n",
      "04:10:03 - cmdstanpy - INFO - Chain [1] start processing\n",
      "04:10:04 - cmdstanpy - INFO - Chain [1] done processing\n",
      "04:10:04 - cmdstanpy - INFO - Chain [1] start processing\n",
      "04:10:05 - cmdstanpy - INFO - Chain [1] done processing\n"
     ]
    },
    {
     "name": "stdout",
     "output_type": "stream",
     "text": [
      "Ticker: HD | Last Close: 415.01 | Projected Price: 384.93 | Projected Upside: -0.07 | Predicted MSE: 12.49 | Actual MSE: 9.51\n"
     ]
    },
    {
     "name": "stderr",
     "output_type": "stream",
     "text": [
      "04:10:07 - cmdstanpy - INFO - Chain [1] start processing\n",
      "04:10:07 - cmdstanpy - INFO - Chain [1] done processing\n",
      "04:10:08 - cmdstanpy - INFO - Chain [1] start processing\n",
      "04:10:08 - cmdstanpy - INFO - Chain [1] done processing\n",
      "04:10:09 - cmdstanpy - INFO - Chain [1] start processing\n",
      "04:10:10 - cmdstanpy - INFO - Chain [1] done processing\n"
     ]
    }
   ],
   "source": [
    "import pandas as pd\n",
    "import numpy as np\n",
    "import yfinance as yf\n",
    "from prophet.plot import plot_plotly, plot_components_plotly, plot_cross_validation_metric\n",
    "from prophet import Prophet\n",
    "from prophet.utilities import regressor_coefficients\n",
    "from prophet.diagnostics import cross_validation\n",
    "\n",
    "# create a dictionary to store the results\n",
    "my_dict = {\"Ticker\": [], \"Last Close\": [], \"Projected Price\": [],\n",
    "           \"Projected Upside\": [], \"Predicted MSE\": [], \"Actual MSE\": []}\n",
    "\n",
    "# create an empty list for storing tickers\n",
    "tickers = []\n",
    "\n",
    "# function to calculate mean squared error (MSE)\n",
    "def mse(predictions, actual_label=\"actual\", pred_label=\"yhat\"):\n",
    "  se = ((predictions[actual_label]- predictions[pred_label]) ** 2)\n",
    "  return(se.mean())\n",
    "\n",
    "# function to fit the Prophet model\n",
    "def fit_prophet(train):\n",
    "  m = Prophet()\n",
    "  for p in predictors:\n",
    "    m.add_regressor(p)\n",
    "  m.fit(train)\n",
    "  return m\n",
    "\n",
    "# path to the text file containing tickers\n",
    "tickers_file = \"C:\\\\Python\\\\tickers.txt\"\n",
    "\n",
    "# read the tickers from the text file\n",
    "with open(tickers_file, 'r') as f:\n",
    "    tickers = [line.strip() for line in f]\n",
    "\n",
    "# loop through each ticker to perform forecasting\n",
    "for ticker in tickers:\n",
    "    # a flag for detecting exceptions\n",
    "    exception = True\n",
    "    errors = 0\n",
    "    # try to download stock data\n",
    "    while exception:\n",
    "        exception = False\n",
    "        try:\n",
    "            \n",
    "        #period = 'max' can be used instead of start and ending dates\n",
    "          stock_data = \\\n",
    "          yf.download(ticker, start='2013-01-07', end='2022-01-03', interval='1d', auto_adjust=False, prepost=False, progress=False)\n",
    "        except Exception as e:\n",
    "            exception = True\n",
    "            errors = errors + 1\n",
    "            if errors > 10:\n",
    "                print(ticker + \" is most likely delisted. Attempts made: \" + str(errors))\n",
    "                exception = False\n",
    "    try:       \n",
    "      # drop columns with high missing values\n",
    "      null_pct = stock_data.apply(pd.isnull).sum()/stock_data.shape[0]\n",
    "      valid_columns = stock_data.columns[null_pct < 0.5]\n",
    "      stock_data = stock_data[valid_columns].copy()\n",
    "      # change column names to lower case\n",
    "      stock_data.columns = stock_data.columns.str.lower()\n",
    "      # convert index to UTC time\n",
    "      stock_data.index = stock_data.index.tz_convert('UTC').tz_convert(None)\n",
    "      # create target variable \"y\" as the high price of next day\n",
    "      stock_data[\"y\"] = stock_data.shift(-1)['high']\n",
    "      # forward fill missing values\n",
    "      stock_data = stock_data.ffill()\n",
    "      # create a new column \"ds\" for the timestamp\n",
    "      stock_data[\"ds\"] = stock_data.index\n",
    "      # get a list of predictors\n",
    "      predictors = stock_data.columns[~stock_data.columns.isin([\"y\", \"ds\"])]\n",
    "      #predictors\n",
    "\n",
    "      split = round(len(stock_data) * 0.8)\n",
    "      train = stock_data.iloc[:split]\n",
    "      test = stock_data.iloc[split:]\n",
    "\n",
    "      m = fit_prophet(train)\n",
    "      predictions = m.predict(test)\n",
    "      #predictions\n",
    "      #plot_components_plotly(m, predictions)\n",
    "      regressor_coefficients(m)\n",
    "      predictions.index = test.index\n",
    "      predictions[\"actual\"] = test[\"y\"]\n",
    "      mse_calc = mse(predictions)\n",
    "      #print(\"MSE for \" + ticker + \" is: \" + str(mse_calc))\n",
    "      m = fit_prophet(stock_data)\n",
    "      cv = cross_validation(m, initial=f'{365 * 5} days', period='180 days', horizon='180 days', parallel=\"processes\")\n",
    "      actual_mse = mse(cv, actual_label=\"y\")\n",
    "      #cv[[\"y\", \"yhat\"]][-365:].plot()\n",
    "      m = fit_prophet(stock_data)\n",
    "      m.predict(stock_data.iloc[-1:])\n",
    "      m = Prophet()\n",
    "      m.fit(stock_data)\n",
    "      future = m.make_future_dataframe(periods=60)\n",
    "      forecast = m.predict(future)\n",
    "      #plot_plotly(m, forecast)\n",
    "      #forecast\n",
    "      forecasted_price = round(forecast.iloc[-1]['yhat'],2)\n",
    "      #print(\"Predicted Price: \" + str(forecasted_price))\n",
    "      last_close = round(stock_data.iloc[-1]['close'],2)\n",
    "      #print(\"Last Close: \" + str(last_close))\n",
    "      projected_upside = round((forecasted_price / last_close -1), 2)\n",
    "      #print(\"Projected Upside: \" + str(projected_upside) + \"%\")\n",
    "      my_dict[\"Ticker\"].append(ticker)\n",
    "      my_dict[\"Last Close\"].append(last_close)\n",
    "      my_dict[\"Projected Price\"].append(forecasted_price)\n",
    "      my_dict[\"Projected Upside\"].append(projected_upside)\n",
    "      my_dict[\"Predicted MSE\"].append(round(mse_calc,2))\n",
    "      my_dict[\"Actual MSE\"].append(round(actual_mse,2))\n",
    "      print(\"Ticker: \" + ticker + \" | Last Close: \" + str(last_close) + \" | Projected Price: \" + str(forecasted_price) + \" | Projected Upside: \" + str(projected_upside) + \" | Predicted MSE: \" + str(round(mse_calc,2)) + \" | Actual MSE: \" + str(round(actual_mse,2)))\n",
    "    except Exception as e:\n",
    "        pass\n",
    "df = pd.DataFrame(my_dict)\n",
    "print(df)\n",
    "df.to_excel(\"prophet.xlsx\")"
   ]
  }
 ],
 "metadata": {
  "kernelspec": {
   "display_name": "Python 3 (ipykernel)",
   "language": "python",
   "name": "python3"
  },
  "language_info": {
   "codemirror_mode": {
    "name": "ipython",
    "version": 3
   },
   "file_extension": ".py",
   "mimetype": "text/x-python",
   "name": "python",
   "nbconvert_exporter": "python",
   "pygments_lexer": "ipython3",
   "version": "3.10.9"
  }
 },
 "nbformat": 4,
 "nbformat_minor": 5
}
